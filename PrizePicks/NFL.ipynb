{
 "cells": [
  {
   "cell_type": "code",
   "execution_count": 1,
   "metadata": {},
   "outputs": [],
   "source": [
    "import requests\n",
    "import pprint\n",
    "pp = pprint.PrettyPrinter(indent=4)\n",
    "import re"
   ]
  },
  {
   "cell_type": "code",
   "execution_count": 2,
   "metadata": {},
   "outputs": [],
   "source": [
    "import numpy as np\n",
    "import pandas as pd\n",
    "import json\n",
    "import os, sys"
   ]
  },
  {
   "cell_type": "code",
   "execution_count": 3,
   "metadata": {},
   "outputs": [],
   "source": [
    "main_dir = os.path.normpath(os.getcwd() + os.sep + os.pardir)"
   ]
  },
  {
   "cell_type": "markdown",
   "metadata": {},
   "source": [
    "# Prize Picks Projections Scrape"
   ]
  },
  {
   "cell_type": "code",
   "execution_count": 4,
   "metadata": {},
   "outputs": [],
   "source": [
    "f = open(main_dir + \"/PrizePicks/projections.json\")\n",
    "data = json.load(f)\n",
    "pp = pd.json_normalize(data['included'])\n",
    "pp1 = pp[pp['type'] == 'new_player']\n",
    "pp2 = pd.json_normalize(data['data'])\n",
    "\n",
    "pp1 = pp1.rename(columns = {'id' : 'playerid'})\n",
    "pp2 = pp2.rename(columns = {'relationships.new_player.data.id' : 'playerid'})\n",
    "\n",
    "mergedDF = pp2.merge(pp1, on = 'playerid', how = 'left')\n",
    "\n",
    "fdf = mergedDF[['attributes.line_score','attributes.stat_type','attributes.name','attributes.league']]\n"
   ]
  },
  {
   "cell_type": "code",
   "execution_count": 5,
   "metadata": {},
   "outputs": [
    {
     "name": "stderr",
     "output_type": "stream",
     "text": [
      "/Library/Frameworks/Python.framework/Versions/3.7/lib/python3.7/site-packages/pandas/core/frame.py:5047: SettingWithCopyWarning: \n",
      "A value is trying to be set on a copy of a slice from a DataFrame\n",
      "\n",
      "See the caveats in the documentation: https://pandas.pydata.org/pandas-docs/stable/user_guide/indexing.html#returning-a-view-versus-a-copy\n",
      "  errors=errors,\n"
     ]
    }
   ],
   "source": [
    "fdf.rename(columns={'attributes.line_score':'pp_line', 'attributes.stat_type':'prop_type', 'attributes.name':'player_name', \n",
    "                   'attributes.league':'league'}, inplace=True)"
   ]
  },
  {
   "cell_type": "code",
   "execution_count": 6,
   "metadata": {},
   "outputs": [
    {
     "name": "stderr",
     "output_type": "stream",
     "text": [
      "/Library/Frameworks/Python.framework/Versions/3.7/lib/python3.7/site-packages/ipykernel_launcher.py:1: SettingWithCopyWarning: \n",
      "A value is trying to be set on a copy of a slice from a DataFrame.\n",
      "Try using .loc[row_indexer,col_indexer] = value instead\n",
      "\n",
      "See the caveats in the documentation: https://pandas.pydata.org/pandas-docs/stable/user_guide/indexing.html#returning-a-view-versus-a-copy\n",
      "  \"\"\"Entry point for launching an IPython kernel.\n",
      "/Library/Frameworks/Python.framework/Versions/3.7/lib/python3.7/site-packages/ipykernel_launcher.py:2: SettingWithCopyWarning: \n",
      "A value is trying to be set on a copy of a slice from a DataFrame.\n",
      "Try using .loc[row_indexer,col_indexer] = value instead\n",
      "\n",
      "See the caveats in the documentation: https://pandas.pydata.org/pandas-docs/stable/user_guide/indexing.html#returning-a-view-versus-a-copy\n",
      "  \n",
      "/Library/Frameworks/Python.framework/Versions/3.7/lib/python3.7/site-packages/ipykernel_launcher.py:3: SettingWithCopyWarning: \n",
      "A value is trying to be set on a copy of a slice from a DataFrame.\n",
      "Try using .loc[row_indexer,col_indexer] = value instead\n",
      "\n",
      "See the caveats in the documentation: https://pandas.pydata.org/pandas-docs/stable/user_guide/indexing.html#returning-a-view-versus-a-copy\n",
      "  This is separate from the ipykernel package so we can avoid doing imports until\n"
     ]
    }
   ],
   "source": [
    "fdf['player_name'] = fdf['player_name'].str.lower()\n",
    "fdf['league'] = fdf['league'].str.lower()\n",
    "fdf['prop_type'] = fdf['prop_type'].str.lower()"
   ]
  },
  {
   "cell_type": "code",
   "execution_count": 7,
   "metadata": {},
   "outputs": [
    {
     "name": "stderr",
     "output_type": "stream",
     "text": [
      "/Library/Frameworks/Python.framework/Versions/3.7/lib/python3.7/site-packages/ipykernel_launcher.py:8: SettingWithCopyWarning: \n",
      "A value is trying to be set on a copy of a slice from a DataFrame.\n",
      "Try using .loc[row_indexer,col_indexer] = value instead\n",
      "\n",
      "See the caveats in the documentation: https://pandas.pydata.org/pandas-docs/stable/user_guide/indexing.html#returning-a-view-versus-a-copy\n",
      "  \n"
     ]
    }
   ],
   "source": [
    "# changing prop types to match pinnacle\n",
    "# keep adding to this until complete\n",
    "\n",
    "# NFL PROPS\n",
    "fdf['prop_type'] = np.where(fdf['prop_type']=='pass yards', 'pass yds', \n",
    "                           np.where(fdf['prop_type']=='receiving yards', 'receiving yds', \n",
    "                                    np.where(fdf['prop_type']=='rush yards', 'rush yds',\n",
    "                                            fdf['prop_type'])))"
   ]
  },
  {
   "cell_type": "markdown",
   "metadata": {},
   "source": [
    "# Pinnacle Sports NFL WebScrape Attempt"
   ]
  },
  {
   "cell_type": "code",
   "execution_count": 8,
   "metadata": {},
   "outputs": [],
   "source": [
    "# Opening JSON file\n",
    "f = open(main_dir + \"/Pinnacle/NFL/nfl_matchups.json\")\n",
    "  \n",
    "# returns JSON object as \n",
    "# a dictionary\n",
    "data = json.load(f)\n",
    "  \n",
    "# Iterating through the json\n",
    "# list\n",
    "player_props = []\n",
    "#test = []\n",
    "for i, d in enumerate(data['data']):\n",
    "    try:\n",
    "        if d['special']['category'].lower() == 'player props':\n",
    "            data = {}\n",
    "            data['prop_name'] = d['special']['description']\n",
    "            data['prop_id'] = d['id']\n",
    "            data['over_id'] = d['participants'][0]['id']\n",
    "            data['under_id'] = d['participants'][1]['id']\n",
    "            player_props.append(data)        \n",
    "                \n",
    "            \n",
    "    except:\n",
    "        continue\n",
    "\n",
    "# Closing file\n",
    "f.close()\n",
    "#print(count)"
   ]
  },
  {
   "cell_type": "code",
   "execution_count": 9,
   "metadata": {},
   "outputs": [],
   "source": [
    "# Opening JSON file\n",
    "f = open(main_dir + \"/Pinnacle/NFL/nfl_straight.json\")\n",
    "  \n",
    "# returns JSON object as \n",
    "# a dictionary\n",
    "data = json.load(f)\n",
    "prop_prices = []\n",
    "for d in data['data']:\n",
    "    try:\n",
    "\n",
    "        row = {}\n",
    "        row['prop_id'] = d['matchupId']\n",
    "    \n",
    "        row['over_id'] = d['prices'][0]['participantId']\n",
    "        row['over_points'] = d['prices'][0]['points']\n",
    "        row['over_price'] = d['prices'][0]['price']\n",
    "    \n",
    "        row['under_id'] = d['prices'][1]['participantId']\n",
    "        row['under_points'] = d['prices'][1]['points']\n",
    "        row['under_price'] = d['prices'][1]['price']   \n",
    " \n",
    "        prop_prices.append(row)\n",
    "    \n",
    "    except:\n",
    "        continue\n",
    "\n",
    "\n",
    "    \n",
    "# Closing file\n",
    "f.close()\n",
    "#print(count)"
   ]
  },
  {
   "cell_type": "code",
   "execution_count": 10,
   "metadata": {},
   "outputs": [],
   "source": [
    "propd = pd.DataFrame(player_props)"
   ]
  },
  {
   "cell_type": "code",
   "execution_count": 11,
   "metadata": {},
   "outputs": [],
   "source": [
    "prices = pd.DataFrame(prop_prices)"
   ]
  },
  {
   "cell_type": "code",
   "execution_count": 12,
   "metadata": {},
   "outputs": [],
   "source": [
    "df = pd.merge(propd, prices, how='left', on=['prop_id', 'over_id', 'under_id'])"
   ]
  },
  {
   "cell_type": "code",
   "execution_count": 13,
   "metadata": {},
   "outputs": [],
   "source": [
    "df.dropna(inplace=True)"
   ]
  },
  {
   "cell_type": "code",
   "execution_count": 14,
   "metadata": {},
   "outputs": [],
   "source": [
    "df['min_price'] = np.where(df['over_price']<=df['under_price'], df['over_price'], df['under_price'])"
   ]
  },
  {
   "cell_type": "code",
   "execution_count": 15,
   "metadata": {},
   "outputs": [],
   "source": [
    "def prop_type(string):\n",
    "    type_ = re.findall('(.+?)\\(', string)[1].lower().strip(')')\n",
    "    return type_\n",
    "\n",
    "def player_name(string):\n",
    "    name = re.findall('(.+?)\\(', string)[0].lower().strip()\n",
    "    return name"
   ]
  },
  {
   "cell_type": "code",
   "execution_count": 16,
   "metadata": {},
   "outputs": [],
   "source": [
    "df['player_name'] = df['prop_name'].apply(player_name)\n",
    "df['prop_type'] = df['prop_name'].apply(prop_type)"
   ]
  },
  {
   "cell_type": "code",
   "execution_count": 17,
   "metadata": {},
   "outputs": [],
   "source": [
    "df.drop(columns='prop_name', inplace=True)"
   ]
  },
  {
   "cell_type": "code",
   "execution_count": 18,
   "metadata": {},
   "outputs": [],
   "source": [
    "df.drop_duplicates(inplace=True)"
   ]
  },
  {
   "cell_type": "code",
   "execution_count": 19,
   "metadata": {},
   "outputs": [],
   "source": [
    "propd = pd.DataFrame(player_props)\n",
    "prices = pd.DataFrame(prop_prices)\n",
    "\n",
    "df = pd.merge(propd, prices, how='left', on=['prop_id', 'over_id', 'under_id'])\n",
    "df.dropna(inplace=True)\n",
    "\n",
    "df['min_price'] = np.where(df['over_price']<=df['under_price'], df['over_price'], df['under_price'])\n",
    "\n",
    "df['player_name'] = df['prop_name'].apply(player_name)\n",
    "df['prop_type'] = df['prop_name'].apply(prop_type)\n",
    "\n",
    "df.drop(columns='prop_name', inplace=True)\n",
    "df.drop_duplicates(inplace=True)"
   ]
  },
  {
   "cell_type": "code",
   "execution_count": 20,
   "metadata": {},
   "outputs": [],
   "source": [
    "def get_picks(pp, pin, league):\n",
    "    df = pp[pp['league']==league]\n",
    "    df = df.merge(pin, how='left', on=['player_name', 'prop_type'])\n",
    "    df.dropna(inplace=True)\n",
    "    df.drop(columns=['prop_id', 'over_id', 'under_id', 'under_points'], inplace=True)\n",
    "    df.rename(columns={'over_points':'pinnacle_line'}, inplace=True)\n",
    "    \n",
    "    df['favored'] = np.where(df['min_price']==df['over_price'], 'over', 'under')\n",
    "    \n",
    "    df['edge'] = np.where((df['pinnacle_line']<df['pp_line'])&(df['favored']=='under'), 'edge',\n",
    "                         np.where((df['pinnacle_line']>df['pp_line'])&(df['favored']=='over'), 'edge',\n",
    "                                 np.where(df['pinnacle_line']==df['pp_line'], 'equal',\n",
    "                                         np.where((df['pinnacle_line']<df['pp_line'])&(df['favored']=='over'), 'buffer',\n",
    "                                                 np.where((df['pinnacle_line']>df['pp_line'])&(df['favored']=='under'), 'buffer', 'else')))))\n",
    "    df.sort_values(by='min_price', inplace=True)\n",
    "    return df"
   ]
  },
  {
   "cell_type": "code",
   "execution_count": 21,
   "metadata": {},
   "outputs": [],
   "source": [
    "nfl = get_picks(fdf, df, 'nfl')"
   ]
  },
  {
   "cell_type": "code",
   "execution_count": 22,
   "metadata": {},
   "outputs": [
    {
     "data": {
      "text/html": [
       "<div>\n",
       "<style scoped>\n",
       "    .dataframe tbody tr th:only-of-type {\n",
       "        vertical-align: middle;\n",
       "    }\n",
       "\n",
       "    .dataframe tbody tr th {\n",
       "        vertical-align: top;\n",
       "    }\n",
       "\n",
       "    .dataframe thead th {\n",
       "        text-align: right;\n",
       "    }\n",
       "</style>\n",
       "<table border=\"1\" class=\"dataframe\">\n",
       "  <thead>\n",
       "    <tr style=\"text-align: right;\">\n",
       "      <th></th>\n",
       "      <th>pp_line</th>\n",
       "      <th>prop_type</th>\n",
       "      <th>player_name</th>\n",
       "      <th>league</th>\n",
       "      <th>pinnacle_line</th>\n",
       "      <th>over_price</th>\n",
       "      <th>under_price</th>\n",
       "      <th>min_price</th>\n",
       "      <th>favored</th>\n",
       "      <th>edge</th>\n",
       "    </tr>\n",
       "  </thead>\n",
       "  <tbody>\n",
       "    <tr>\n",
       "      <th>16</th>\n",
       "      <td>2.0</td>\n",
       "      <td>receptions</td>\n",
       "      <td>tre'quan smith</td>\n",
       "      <td>nfl</td>\n",
       "      <td>2.5</td>\n",
       "      <td>128.0</td>\n",
       "      <td>-173.0</td>\n",
       "      <td>-173.0</td>\n",
       "      <td>under</td>\n",
       "      <td>buffer</td>\n",
       "    </tr>\n",
       "    <tr>\n",
       "      <th>13</th>\n",
       "      <td>2.0</td>\n",
       "      <td>receptions</td>\n",
       "      <td>marquez callaway</td>\n",
       "      <td>nfl</td>\n",
       "      <td>2.5</td>\n",
       "      <td>111.0</td>\n",
       "      <td>-148.0</td>\n",
       "      <td>-148.0</td>\n",
       "      <td>under</td>\n",
       "      <td>buffer</td>\n",
       "    </tr>\n",
       "    <tr>\n",
       "      <th>0</th>\n",
       "      <td>30.5</td>\n",
       "      <td>rush yds</td>\n",
       "      <td>kyler murray</td>\n",
       "      <td>nfl</td>\n",
       "      <td>29.5</td>\n",
       "      <td>-125.0</td>\n",
       "      <td>-106.0</td>\n",
       "      <td>-125.0</td>\n",
       "      <td>over</td>\n",
       "      <td>buffer</td>\n",
       "    </tr>\n",
       "    <tr>\n",
       "      <th>7</th>\n",
       "      <td>32.5</td>\n",
       "      <td>receiving yds</td>\n",
       "      <td>alvin kamara</td>\n",
       "      <td>nfl</td>\n",
       "      <td>33.5</td>\n",
       "      <td>-123.0</td>\n",
       "      <td>-108.0</td>\n",
       "      <td>-123.0</td>\n",
       "      <td>over</td>\n",
       "      <td>edge</td>\n",
       "    </tr>\n",
       "    <tr>\n",
       "      <th>4</th>\n",
       "      <td>65.5</td>\n",
       "      <td>rush yds</td>\n",
       "      <td>alvin kamara</td>\n",
       "      <td>nfl</td>\n",
       "      <td>60.5</td>\n",
       "      <td>-112.0</td>\n",
       "      <td>-119.0</td>\n",
       "      <td>-119.0</td>\n",
       "      <td>under</td>\n",
       "      <td>edge</td>\n",
       "    </tr>\n",
       "    <tr>\n",
       "      <th>9</th>\n",
       "      <td>47.5</td>\n",
       "      <td>receiving yds</td>\n",
       "      <td>zach ertz</td>\n",
       "      <td>nfl</td>\n",
       "      <td>47.5</td>\n",
       "      <td>-118.0</td>\n",
       "      <td>-112.0</td>\n",
       "      <td>-118.0</td>\n",
       "      <td>over</td>\n",
       "      <td>equal</td>\n",
       "    </tr>\n",
       "    <tr>\n",
       "      <th>14</th>\n",
       "      <td>48.5</td>\n",
       "      <td>receiving yds</td>\n",
       "      <td>rondale moore</td>\n",
       "      <td>nfl</td>\n",
       "      <td>48.5</td>\n",
       "      <td>-112.0</td>\n",
       "      <td>-118.0</td>\n",
       "      <td>-118.0</td>\n",
       "      <td>under</td>\n",
       "      <td>equal</td>\n",
       "    </tr>\n",
       "    <tr>\n",
       "      <th>15</th>\n",
       "      <td>27.5</td>\n",
       "      <td>receiving yds</td>\n",
       "      <td>tre'quan smith</td>\n",
       "      <td>nfl</td>\n",
       "      <td>27.5</td>\n",
       "      <td>-112.0</td>\n",
       "      <td>-118.0</td>\n",
       "      <td>-118.0</td>\n",
       "      <td>under</td>\n",
       "      <td>equal</td>\n",
       "    </tr>\n",
       "    <tr>\n",
       "      <th>18</th>\n",
       "      <td>5.5</td>\n",
       "      <td>receiving yds</td>\n",
       "      <td>keith kirkwood</td>\n",
       "      <td>nfl</td>\n",
       "      <td>5.5</td>\n",
       "      <td>-118.0</td>\n",
       "      <td>-112.0</td>\n",
       "      <td>-118.0</td>\n",
       "      <td>over</td>\n",
       "      <td>equal</td>\n",
       "    </tr>\n",
       "    <tr>\n",
       "      <th>8</th>\n",
       "      <td>60.5</td>\n",
       "      <td>receiving yds</td>\n",
       "      <td>chris olave</td>\n",
       "      <td>nfl</td>\n",
       "      <td>60.5</td>\n",
       "      <td>-113.0</td>\n",
       "      <td>-117.0</td>\n",
       "      <td>-117.0</td>\n",
       "      <td>under</td>\n",
       "      <td>equal</td>\n",
       "    </tr>\n",
       "    <tr>\n",
       "      <th>11</th>\n",
       "      <td>59.5</td>\n",
       "      <td>receiving yds</td>\n",
       "      <td>deandre hopkins</td>\n",
       "      <td>nfl</td>\n",
       "      <td>59.5</td>\n",
       "      <td>-117.0</td>\n",
       "      <td>-113.0</td>\n",
       "      <td>-117.0</td>\n",
       "      <td>over</td>\n",
       "      <td>equal</td>\n",
       "    </tr>\n",
       "    <tr>\n",
       "      <th>10</th>\n",
       "      <td>30.5</td>\n",
       "      <td>rush yds</td>\n",
       "      <td>taysom hill</td>\n",
       "      <td>nfl</td>\n",
       "      <td>30.5</td>\n",
       "      <td>-114.0</td>\n",
       "      <td>-116.0</td>\n",
       "      <td>-116.0</td>\n",
       "      <td>under</td>\n",
       "      <td>equal</td>\n",
       "    </tr>\n",
       "    <tr>\n",
       "      <th>12</th>\n",
       "      <td>29.5</td>\n",
       "      <td>receiving yds</td>\n",
       "      <td>marquez callaway</td>\n",
       "      <td>nfl</td>\n",
       "      <td>29.5</td>\n",
       "      <td>-114.0</td>\n",
       "      <td>-116.0</td>\n",
       "      <td>-116.0</td>\n",
       "      <td>under</td>\n",
       "      <td>equal</td>\n",
       "    </tr>\n",
       "    <tr>\n",
       "      <th>17</th>\n",
       "      <td>22.5</td>\n",
       "      <td>receiving yds</td>\n",
       "      <td>juwan johnson</td>\n",
       "      <td>nfl</td>\n",
       "      <td>22.5</td>\n",
       "      <td>-115.0</td>\n",
       "      <td>-115.0</td>\n",
       "      <td>-115.0</td>\n",
       "      <td>over</td>\n",
       "      <td>equal</td>\n",
       "    </tr>\n",
       "  </tbody>\n",
       "</table>\n",
       "</div>"
      ],
      "text/plain": [
       "    pp_line      prop_type       player_name league  pinnacle_line  \\\n",
       "16      2.0     receptions    tre'quan smith    nfl            2.5   \n",
       "13      2.0     receptions  marquez callaway    nfl            2.5   \n",
       "0      30.5       rush yds      kyler murray    nfl           29.5   \n",
       "7      32.5  receiving yds      alvin kamara    nfl           33.5   \n",
       "4      65.5       rush yds      alvin kamara    nfl           60.5   \n",
       "9      47.5  receiving yds         zach ertz    nfl           47.5   \n",
       "14     48.5  receiving yds     rondale moore    nfl           48.5   \n",
       "15     27.5  receiving yds    tre'quan smith    nfl           27.5   \n",
       "18      5.5  receiving yds    keith kirkwood    nfl            5.5   \n",
       "8      60.5  receiving yds       chris olave    nfl           60.5   \n",
       "11     59.5  receiving yds   deandre hopkins    nfl           59.5   \n",
       "10     30.5       rush yds       taysom hill    nfl           30.5   \n",
       "12     29.5  receiving yds  marquez callaway    nfl           29.5   \n",
       "17     22.5  receiving yds     juwan johnson    nfl           22.5   \n",
       "\n",
       "    over_price  under_price  min_price favored    edge  \n",
       "16       128.0       -173.0     -173.0   under  buffer  \n",
       "13       111.0       -148.0     -148.0   under  buffer  \n",
       "0       -125.0       -106.0     -125.0    over  buffer  \n",
       "7       -123.0       -108.0     -123.0    over    edge  \n",
       "4       -112.0       -119.0     -119.0   under    edge  \n",
       "9       -118.0       -112.0     -118.0    over   equal  \n",
       "14      -112.0       -118.0     -118.0   under   equal  \n",
       "15      -112.0       -118.0     -118.0   under   equal  \n",
       "18      -118.0       -112.0     -118.0    over   equal  \n",
       "8       -113.0       -117.0     -117.0   under   equal  \n",
       "11      -117.0       -113.0     -117.0    over   equal  \n",
       "10      -114.0       -116.0     -116.0   under   equal  \n",
       "12      -114.0       -116.0     -116.0   under   equal  \n",
       "17      -115.0       -115.0     -115.0    over   equal  "
      ]
     },
     "execution_count": 22,
     "metadata": {},
     "output_type": "execute_result"
    }
   ],
   "source": [
    "nfl.sort_values(by='min_price', ascending=True)"
   ]
  },
  {
   "cell_type": "code",
   "execution_count": null,
   "metadata": {},
   "outputs": [],
   "source": []
  }
 ],
 "metadata": {
  "kernelspec": {
   "display_name": "Python 3 (ipykernel)",
   "language": "python",
   "name": "python3"
  },
  "language_info": {
   "codemirror_mode": {
    "name": "ipython",
    "version": 3
   },
   "file_extension": ".py",
   "mimetype": "text/x-python",
   "name": "python",
   "nbconvert_exporter": "python",
   "pygments_lexer": "ipython3",
   "version": "3.7.6"
  }
 },
 "nbformat": 4,
 "nbformat_minor": 4
}
